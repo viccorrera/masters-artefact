{
 "cells": [
  {
   "cell_type": "markdown",
   "metadata": {},
   "source": [
    "# Load Libraries"
   ]
  },
  {
   "cell_type": "code",
   "execution_count": 1,
   "metadata": {},
   "outputs": [],
   "source": [
    "# General libraries\n",
    "import pandas as pd\n",
    "import numpy as np\n",
    "from typing import List, Tuple\n",
    "\n",
    "# Preprocessing\n",
    "from sklearn.model_selection import train_test_split\n",
    "from sklearn.preprocessing import StandardScaler\n",
    "\n",
    "# Models\n",
    "from sklearn import svm\n",
    "from sklearn.tree import DecisionTreeRegressor\n",
    "from sklearn.ensemble import RandomForestRegressor\n",
    "\n",
    "# Error calculation\n",
    "from sklearn.metrics import mean_squared_error, mean_absolute_error"
   ]
  },
  {
   "cell_type": "markdown",
   "metadata": {},
   "source": [
    "# Load Dataset"
   ]
  },
  {
   "cell_type": "code",
   "execution_count": 2,
   "metadata": {},
   "outputs": [],
   "source": [
    "def load_csv(filepath: str) -> pd.DataFrame:\n",
    "  return pd.read_csv(filepath, sep='\\t', dtype={'Comp': str}, index_col=0)\n",
    "\n",
    "# Datasets\n",
    "dataset_before_21_filepath = 'dataset_before_21.txt'\n",
    "dataset_after_20_filepath = 'dataset_after_20.txt'\n",
    "\n",
    "df = load_csv(dataset_before_21_filepath)\n",
    "df_uwy_after_20 = load_csv(dataset_after_20_filepath)"
   ]
  },
  {
   "cell_type": "code",
   "execution_count": 3,
   "metadata": {},
   "outputs": [
    {
     "name": "stdout",
     "output_type": "stream",
     "text": [
      "To remove outliers, filter data to keep only ULR/ALR below 1.934359979270388\n"
     ]
    }
   ],
   "source": [
    "print(\"To remove outliers, filter data to keep only ULR/ALR below {}\".format(\n",
    "    df['ULR/ALR'].std() * 2\n",
    "))\n",
    "\n",
    "df_no_ol = df[df['ULR/ALR'] < df['ULR/ALR'].std() * 2].copy()"
   ]
  },
  {
   "cell_type": "markdown",
   "metadata": {},
   "source": [
    "# Separating train and test sets"
   ]
  },
  {
   "cell_type": "code",
   "execution_count": 4,
   "metadata": {},
   "outputs": [],
   "source": [
    "def prepare_data_for_X_y(\n",
    "    df: pd.DataFrame,\n",
    "    target_col: str,\n",
    "    exclude_cols: List[str]) -> Tuple[pd.DataFrame, pd.Series]:\n",
    "\n",
    "    # Drop unnecessary columns\n",
    "    df_prep = df.drop(columns=exclude_cols).copy()\n",
    "\n",
    "    # Create list of all columns that are string, to be used when\n",
    "    # creating dummy columns\n",
    "    cat_cols = df_prep.select_dtypes(include=['object']).columns.values\n",
    "\n",
    "    # Create the dummy columns\n",
    "    X = pd.get_dummies(data=df_prep, columns=cat_cols)\n",
    "    \n",
    "    # Create X_final (DataFrame), dropping target column\n",
    "    X_final = X.drop(columns=[target_col])\n",
    "    \n",
    "    # Create y_final (Series), by keeping ony the target column\n",
    "    y_final = X[target_col]\n",
    "\n",
    "    # Return DataFrame and Series as tuple\n",
    "    return X_final, y_final\n",
    "\n",
    "# Prep data for dataset with year < 2021\n",
    "X, y = prepare_data_for_X_y(df_no_ol,\n",
    "                            target_col='ULR/ALR',\n",
    "                            exclude_cols=['Class', 'UW Yr'])\n",
    "\n",
    "\n",
    "# Prep data for dataset with year > 2020\n",
    "X_21up, y_21up = prepare_data_for_X_y(df_uwy_after_20,\n",
    "                                      target_col='ULR/ALR',\n",
    "                                      exclude_cols=['Class', 'UW Yr'])\n",
    "\n",
    "X_train, X_test, y_train, y_test = train_test_split(\n",
    "    X, y, test_size=0.20, random_state=20)\n"
   ]
  },
  {
   "cell_type": "markdown",
   "metadata": {},
   "source": [
    "# SVR"
   ]
  },
  {
   "cell_type": "code",
   "execution_count": 5,
   "metadata": {},
   "outputs": [
    {
     "name": "stdout",
     "output_type": "stream",
     "text": [
      "Dataset with data before 2021\n",
      "RMSE 28.77%\n",
      "MAE 18.73%\n",
      "\n",
      "Dataset with data after 2020\n",
      "RMSE 13.03%\n",
      "MAE 10.33%\n"
     ]
    }
   ],
   "source": [
    "# Scaling numeric features using sklearn StandardScaler\n",
    "# This is used only for SVR, since DT and RF have no need to scale the data\n",
    "sc = StandardScaler()\n",
    "X_train = sc.fit_transform(X_train)\n",
    "X_test = sc.transform(X_test)\n",
    "X_21up_test = sc.transform(X_21up)\n",
    "\n",
    "# Create SVR instance, and fit dataset to algorithm\n",
    "svr_clf = svm.SVR(kernel='rbf', gamma='auto', C=1)\n",
    "svr_clf.fit(X_train, y_train)\n",
    "\n",
    "svr_y_pred = svr_clf.predict(X_test)\n",
    "print(\"Dataset with data before 2021\")\n",
    "print(\"RMSE\", \"{:.2%}\".format(np.sqrt(mean_squared_error(y_test, svr_y_pred))))\n",
    "print(\"MAE\", \"{:.2%}\".format(mean_absolute_error(y_test, svr_y_pred)))\n",
    "\n",
    "svr_y_pred_21up = svr_clf.predict(X_21up_test)\n",
    "print(\"\\nDataset with data after 2020\")\n",
    "print(\"RMSE\", \"{:.2%}\".format(\n",
    "    np.sqrt(mean_squared_error(y_21up, svr_y_pred_21up))))\n",
    "print(\"MAE\", \"{:.2%}\".format(mean_absolute_error(y_21up, svr_y_pred_21up)))\n"
   ]
  },
  {
   "cell_type": "markdown",
   "metadata": {},
   "source": [
    "# Decision Tree"
   ]
  },
  {
   "cell_type": "code",
   "execution_count": 6,
   "metadata": {},
   "outputs": [],
   "source": [
    "# Define again X and y because DT and RF don't need normalized data\n",
    "X, y = prepare_data_for_X_y(df_no_ol,\n",
    "                            target_col='ULR/ALR',\n",
    "                            exclude_cols=['Class', 'UW Yr'])\n",
    "\n",
    "X_21up, y_21up = prepare_data_for_X_y(df_uwy_after_20,\n",
    "                                      target_col='ULR/ALR',\n",
    "                                      exclude_cols=['Class', 'UW Yr'])\n",
    "\n",
    "X_train, X_test, y_train, y_test = train_test_split(\n",
    "    X, y, test_size=0.20, random_state=20)\n"
   ]
  },
  {
   "cell_type": "code",
   "execution_count": 7,
   "metadata": {},
   "outputs": [],
   "source": [
    "# Define again X and y because DT and RF don't need normalized data\n",
    "X, y = prepare_data_for_X_y(df_no_ol,\n",
    "                            target_col='ULR/ALR',\n",
    "                            exclude_cols=['Class', 'UW Yr'])\n",
    "\n",
    "X_21up, y_21up = prepare_data_for_X_y(df_uwy_after_20,\n",
    "                                      target_col='ULR/ALR',\n",
    "                                      exclude_cols=['Class', 'UW Yr'])\n",
    "\n",
    "X_train, X_test, y_train, y_test = train_test_split(\n",
    "    X, y, test_size=0.20, random_state=20)\n",
    "\n",
    "dt_reg = DecisionTreeRegressor(max_depth=6, max_features=10, random_state=20)\n",
    "dt_reg.fit(X_train, y_train.values.ravel())\n",
    "dt_reg_y_pred = dt_reg.predict(X_test)"
   ]
  },
  {
   "cell_type": "code",
   "execution_count": 8,
   "metadata": {},
   "outputs": [
    {
     "name": "stdout",
     "output_type": "stream",
     "text": [
      "Dataset with data before 2021\n",
      "RMSE: 28.79%\n",
      "MAE: 20.11%\n",
      "\n",
      "\n",
      "Dataset with data after 2020\n",
      "RMSE 13.61%\n",
      "MAE 10.29%\n"
     ]
    }
   ],
   "source": [
    "\n",
    "print(\"Dataset with data before 2021\")\n",
    "print(\"RMSE: {:.2%}\".format(\n",
    "    np.sqrt(mean_squared_error(y_test, dt_reg_y_pred))))\n",
    "print(\"MAE: {:.2%}\".format(mean_absolute_error(y_test, dt_reg_y_pred)))\n",
    "print('')\n",
    "dt_reg_y_pred_21up = dt_reg.predict(X_21up)\n",
    "print(\"\\nDataset with data after 2020\")\n",
    "print(\"RMSE\", \"{:.2%}\".format(\n",
    "    np.sqrt(mean_squared_error(y_21up, dt_reg_y_pred_21up))))\n",
    "print(\"MAE\", \"{:.2%}\".format(mean_absolute_error(y_21up, dt_reg_y_pred_21up)))\n"
   ]
  },
  {
   "cell_type": "markdown",
   "metadata": {},
   "source": [
    "# Random Forest"
   ]
  },
  {
   "cell_type": "code",
   "execution_count": 9,
   "metadata": {},
   "outputs": [
    {
     "name": "stdout",
     "output_type": "stream",
     "text": [
      "Dataset with data before 2021\n",
      "RMSE: 26.24%\n",
      "MAE 17.05%\n",
      "\n",
      "Dataset with data after 2020\n",
      "RMSE 11.25%\n",
      "MAE 9.13%\n"
     ]
    }
   ],
   "source": [
    "rf = RandomForestRegressor(n_estimators=250,\n",
    "                           criterion='squared_error',\n",
    "                           max_depth=9,\n",
    "                           max_features='auto',\n",
    "                           random_state=20)\n",
    "\n",
    "rf.fit(X_train, y_train.values.ravel())\n",
    "rf_y_pred = rf.predict(X_test)\n",
    "\n",
    "print(\"Dataset with data before 2021\")\n",
    "print(\"RMSE: {:.2%}\".format(np.sqrt(mean_squared_error(y_test, rf_y_pred))))\n",
    "print(\"MAE\", \"{:.2%}\".format(mean_absolute_error(y_test, rf_y_pred)))\n",
    "\n",
    "rf_y_pred_21up = rf.predict(X_21up)\n",
    "print(\"\\nDataset with data after 2020\")\n",
    "print(\"RMSE\", \"{:.2%}\".format(\n",
    "    np.sqrt(mean_squared_error(y_21up, rf_y_pred_21up))))\n",
    "print(\"MAE\", \"{:.2%}\".format(mean_absolute_error(y_21up, rf_y_pred_21up)))\n"
   ]
  },
  {
   "cell_type": "markdown",
   "metadata": {},
   "source": [
    "Code below is to export the trained model using the `pickle` library, so that it can be loaded into another Notebook."
   ]
  },
  {
   "cell_type": "code",
   "execution_count": null,
   "metadata": {},
   "outputs": [],
   "source": [
    "# import pickle\n",
    "# pickle.dump(rf, open('ml_model', 'wb'))"
   ]
  }
 ],
 "metadata": {
  "interpreter": {
   "hash": "c7a676abbc58fb72a4139e964996bdbf10c701e0b1ca7f6ed9a8294b6eab108e"
  },
  "kernelspec": {
   "display_name": "Python 3.9.7 64-bit",
   "language": "python",
   "name": "python3"
  },
  "language_info": {
   "codemirror_mode": {
    "name": "ipython",
    "version": 3
   },
   "file_extension": ".py",
   "mimetype": "text/x-python",
   "name": "python",
   "nbconvert_exporter": "python",
   "pygments_lexer": "ipython3",
   "version": "3.9.7"
  },
  "orig_nbformat": 4
 },
 "nbformat": 4,
 "nbformat_minor": 2
}
